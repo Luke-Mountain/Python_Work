{
  "nbformat": 4,
  "nbformat_minor": 0,
  "metadata": {
    "colab": {
      "provenance": [],
      "include_colab_link": true
    },
    "kernelspec": {
      "name": "python3",
      "display_name": "Python 3"
    },
    "language_info": {
      "name": "python"
    }
  },
  "cells": [
    {
      "cell_type": "markdown",
      "metadata": {
        "id": "view-in-github",
        "colab_type": "text"
      },
      "source": [
        "<a href=\"https://colab.research.google.com/github/Luke-Mountain/Python_Work/blob/main/Copy_of_Python_Day_2_Exercises_Luke.ipynb\" target=\"_parent\"><img src=\"https://colab.research.google.com/assets/colab-badge.svg\" alt=\"Open In Colab\"/></a>"
      ]
    },
    {
      "cell_type": "markdown",
      "source": [
        "By the end of these exercises, you will be able to:\n",
        "\n",
        "✅ Use conditional statements (if, elif, else) to control the flow of a program.\n",
        "\n",
        "✅ Apply the modulus operator (%) to check number properties like divisibility and parity.\n",
        "\n",
        "✅ Implement input validation and string comparisons to build basic user authentication logic.\n",
        "\n",
        "✅ Use a while loop to repeat tasks based on conditions such as success criteria or attempt limits.\n",
        "\n",
        "✅ Combine loops and decision-making logic to build interactive programs like simple menus.\n",
        "\n",
        "✅ Practice using a for loop with the range() function to iterate over numbers efficiently."
      ],
      "metadata": {
        "id": "1CyqxVu9C-PV"
      }
    },
    {
      "cell_type": "code",
      "source": [],
      "metadata": {
        "id": "_ZRJZQKvpYh-"
      },
      "execution_count": null,
      "outputs": []
    },
    {
      "cell_type": "markdown",
      "source": [
        "### 1 ) 🔐 Scenario-Based Exercise: Security Door Access\n",
        "Scenario:\n",
        "You are a security engineer at a high-tech facility. To enter the building, employees must type in a secret code on a keypad. The code for today is \"123\". You need to write a program that checks if the person has entered the correct code.\n",
        "\n",
        "🧠 Mission Brief:\n",
        "Your task is to write a program that:\n",
        "\n",
        "Asks the person to enter the access code.\n",
        "\n",
        "If the code is \"123\", the system should print:\n",
        "\"🔓 Access granted. Welcome inside!\"\n",
        "\n",
        "If the code is incorrect, the system should print:\n",
        "\"⛔ Access denied. Incorrect code.\"\n",
        "\n"
      ],
      "metadata": {
        "id": "jNDdFa948_PH"
      }
    },
    {
      "cell_type": "code",
      "source": [
        "secret_code=(\"123\")\n",
        "code_attempt=input(\"enter the code: \")\n",
        "if code_attempt==secret_code:\n",
        "    print(\"Access granted. Welcome inside!\")\n",
        "else:\n",
        "    print(\"Access denied. Incorrect code.\")"
      ],
      "metadata": {
        "id": "snAV3Wll9HYM",
        "colab": {
          "base_uri": "https://localhost:8080/"
        },
        "outputId": "c18d4449-c969-42d5-e457-3f87fd70c2a0"
      },
      "execution_count": null,
      "outputs": [
        {
          "output_type": "stream",
          "name": "stdout",
          "text": [
            "enter the code: 123\n",
            "Access granted. Welcome inside!\n"
          ]
        }
      ]
    },
    {
      "cell_type": "code",
      "source": [],
      "metadata": {
        "id": "Rb2Kl0xg9HP4"
      },
      "execution_count": null,
      "outputs": []
    },
    {
      "cell_type": "markdown",
      "source": [
        "### 2) You’re building a simple number-checking tool for a maths learning app. The app should tell users whether their chosen number is divisible by 3 and 7.\n",
        "\n",
        "🧪 Task:\n",
        "Write a Python program that:\n",
        "\n",
        "Asks the user to enter a number.\n",
        "\n",
        "Checks whether the number is divisible by both 3 and 7.\n",
        "\n",
        "Displays a clear message with the result."
      ],
      "metadata": {
        "id": "NvdrqSUw3EnE"
      }
    },
    {
      "cell_type": "code",
      "source": [
        "num=int(input(\"Enter a Number: \"))\n",
        "if num%3==0 and num%7==0:\n",
        "    print(f\"{num} is divisible by both 3 and 7\")\n",
        "else:\n",
        "    print(f\"{num} is not divisible by both 3 and 7\")"
      ],
      "metadata": {
        "id": "ghaGg9if3Mvh",
        "colab": {
          "base_uri": "https://localhost:8080/"
        },
        "outputId": "b9c9a475-c610-43e8-c999-0e7040db81c4"
      },
      "execution_count": null,
      "outputs": [
        {
          "output_type": "stream",
          "name": "stdout",
          "text": [
            "Enter a Number: 45\n",
            "45 is not divisible by both 3 and 7\n"
          ]
        }
      ]
    },
    {
      "cell_type": "code",
      "source": [],
      "metadata": {
        "id": "sm1V_frW3NCU"
      },
      "execution_count": null,
      "outputs": []
    },
    {
      "cell_type": "markdown",
      "source": [
        "### 3) You're developing a simple calculator tool for a local community learning website. Users should be able to choose what operation they want to perform and continue using the calculator until they decide to exit.\n",
        "\n",
        "🧪 Task:\n",
        "Write a Python program that:\n",
        "\n",
        "Displays a menu with the following options:\n",
        "\n",
        "* 1- Addition\n",
        "\n",
        "* 2- Subtraction\n",
        "\n",
        "* 3- Multiplication\n",
        "\n",
        "* 4-Division\n",
        "\n",
        "* 5- Exit\n",
        "\n",
        "Asks the user to choose an operation\n",
        "\n",
        "Asks for two numbers, then performs the chosen operation\n",
        "\n",
        "Repeats the menu until the user selects Exit"
      ],
      "metadata": {
        "id": "Xc1ZWUAX3NbV"
      }
    },
    {
      "cell_type": "code",
      "source": [
        "def show_menu():\n",
        "    print(\"\\nChoose an operation:\")\n",
        "    print(\"1 - Addition\")\n",
        "    print(\"2 - Subtraction\")\n",
        "    print(\"3 - Multiplication\")\n",
        "    print(\"4 - Division\")\n",
        "    print(\"5 - Exit\")\n",
        "# menu declared #\n",
        "def get_numbers():\n",
        "    while True:\n",
        "        try:\n",
        "            num1 = float(input(\"Enter the first number: \"))\n",
        "            num2 = float(input(\"Enter the second number: \"))\n",
        "            return num1, num2\n",
        "        except ValueError:\n",
        "            print(\"Invalid input. Please enter numeric values.\")\n",
        "# user input is declared #\n",
        "while True:\n",
        "    show_menu()\n",
        "    choice = input(\"Enter your choice (1-5): \")\n",
        "\n",
        "    if choice == '5':\n",
        "        print(\"Goodbye!\")\n",
        "        break\n",
        "    elif choice in ['1', '2', '3', '4']:\n",
        "        num1, num2 = get_numbers()\n",
        "\n",
        "        if choice == '1':\n",
        "            print(f\"Result: {num1} + {num2} = {num1 + num2}\")\n",
        "        elif choice == '2':\n",
        "            print(f\"Result: {num1} - {num2} = {num1 - num2}\")\n",
        "        elif choice == '3':\n",
        "            print(f\"Result: {num1} * {num2} = {num1 * num2}\")\n",
        "        elif choice == '4':\n",
        "            if num2 == 0:\n",
        "                print(\"Error: Division by zero is not allowed.\")\n",
        "            else:\n",
        "                print(f\"Result: {num1} / {num2} = {num1 / num2}\")\n",
        "    else:\n",
        "        print(\"Invalid choice. Please select a number from 1 to 5.\")\n"
      ],
      "metadata": {
        "id": "b0Lucv-H3gHI",
        "colab": {
          "base_uri": "https://localhost:8080/"
        },
        "outputId": "c8f3752f-6a78-4f67-ef2f-58ea7e9e9450"
      },
      "execution_count": null,
      "outputs": [
        {
          "output_type": "stream",
          "name": "stdout",
          "text": [
            "\n",
            "Choose an operation:\n",
            "1 - Addition\n",
            "2 - Subtraction\n",
            "3 - Multiplication\n",
            "4 - Division\n",
            "5 - Exit\n",
            "Enter your choice (1-5): 3\n",
            "Enter the first number: 3\n",
            "Enter the second number: 3\n",
            "Result: 3.0 * 3.0 = 9.0\n",
            "\n",
            "Choose an operation:\n",
            "1 - Addition\n",
            "2 - Subtraction\n",
            "3 - Multiplication\n",
            "4 - Division\n",
            "5 - Exit\n",
            "Enter your choice (1-5): exit\n",
            "Invalid choice. Please select a number from 1 to 5.\n",
            "\n",
            "Choose an operation:\n",
            "1 - Addition\n",
            "2 - Subtraction\n",
            "3 - Multiplication\n",
            "4 - Division\n",
            "5 - Exit\n",
            "Enter your choice (1-5): 5\n",
            "Goodbye!\n"
          ]
        }
      ]
    },
    {
      "cell_type": "code",
      "source": [],
      "metadata": {
        "id": "xYihVJx53f69"
      },
      "execution_count": null,
      "outputs": []
    },
    {
      "cell_type": "markdown",
      "source": [
        "### 4) You’re building a fitness tracker app. The app should calculate the total number of steps someone would take if they increase their steps by 1 each day — starting from 1 up to a number they choose.\n",
        "\n",
        "🧪 Task:\n",
        "Write a Python program that:\n",
        "\n",
        "Asks the user to enter a positive number\n",
        "\n",
        "Calculates the sum of all numbers from 1 to that number\n",
        "\n",
        "Displays the total\n",
        "<p> If the user enters 10, the output should be:\n",
        "\n",
        "\"The sum of numbers from 1 to 10 is 55\""
      ],
      "metadata": {
        "id": "WYecctQo3gcl"
      }
    },
    {
      "cell_type": "code",
      "source": [
        "steps_counted=int(input(\"Enter a positive number: \"))\n",
        "total_steps=0\n",
        "for i in range(1,steps_counted+1):\n",
        "    total_steps+=i\n",
        "print(f\"The sum of numbers from 1 to {steps_counted} is {total_steps}\")"
      ],
      "metadata": {
        "id": "BnMVDLYk30S0",
        "colab": {
          "base_uri": "https://localhost:8080/"
        },
        "outputId": "2d402872-e9e7-4c0e-a9ba-35b68e45dcf0"
      },
      "execution_count": null,
      "outputs": [
        {
          "output_type": "stream",
          "name": "stdout",
          "text": [
            "Enter a positive number: 10\n",
            "The sum of numbers from 1 to 10 is 55\n"
          ]
        }
      ]
    },
    {
      "cell_type": "code",
      "source": [],
      "metadata": {
        "id": "1t55cCii30GS"
      },
      "execution_count": null,
      "outputs": []
    },
    {
      "cell_type": "markdown",
      "source": [
        "### 5) You’ve been asked to help design a feature for a Math Quiz App. One challenge asks the user to enter a number — and your program will check whether it’s a prime number (a number that has only two factors: 1 and itself).\n",
        "\n",
        "🧪 Task:\n",
        "Write a Python program that:\n",
        "\n",
        "Asks the user to enter a positive integer\n",
        "\n",
        "Checks whether the number is a prime number\n",
        "\n",
        "Displays a message telling the user whether the number is prime or not\n",
        "\n"
      ],
      "metadata": {
        "id": "mIno3sX3302r"
      }
    },
    {
      "cell_type": "code",
      "source": [
        "potential_prime=int(input(\"Enter a positive integer: \"))\n",
        "is_prime=True\n",
        "if potential_prime<2:\n",
        "    is_prime=False\n",
        "    print(\"Number is not prime\")\n",
        "else:\n",
        "    for i in range(2,potential_prime):\n",
        "        if potential_prime%i==0:\n",
        "            is_prime=False\n",
        "            print (\"Number is not prime\")\n",
        "            break\n",
        "if is_prime:\n",
        "    print(\"Number is prime\")"
      ],
      "metadata": {
        "id": "lS4Rmw4z39V4",
        "colab": {
          "base_uri": "https://localhost:8080/"
        },
        "outputId": "61edca83-8c69-4be8-8a55-a3690c6af098"
      },
      "execution_count": null,
      "outputs": [
        {
          "output_type": "stream",
          "name": "stdout",
          "text": [
            "Enter a positive integer: 44\n",
            "NUmber is not prime\n"
          ]
        }
      ]
    },
    {
      "cell_type": "code",
      "source": [],
      "metadata": {
        "id": "GaJ2CHmu39L_"
      },
      "execution_count": null,
      "outputs": []
    },
    {
      "cell_type": "markdown",
      "source": [
        "### 6) You’re building a tool for a puzzle game where certain levels require calculating the factorial of a number to unlock a clue. A factorial of a number is the product of all positive integers from 1 up to that number.\n",
        "\n",
        "For example:\n",
        "5! = 5 × 4 × 3 × 2 × 1 = 120\n",
        "\n",
        "🧪 Task:\n",
        "Write a Python program that:\n",
        "\n",
        "Asks the user to enter a non-negative integer\n",
        "\n",
        "Calculates the factorial of that number\n",
        "\n",
        "Displays the result\n",
        "\n"
      ],
      "metadata": {
        "id": "r8Jg57iD391Y"
      }
    },
    {
      "cell_type": "code",
      "source": [
        "def factorial(n):\n",
        "    result = 1\n",
        "    for i in range(2, n + 1):\n",
        "        result *= i\n",
        "    return result\n",
        "\n",
        "while True:\n",
        "    try:\n",
        "        num = int(input(\"Enter a non-negative integer: \"))\n",
        "        if num < 0:\n",
        "            print(\"That’s not a non-negative number. Try again.\")\n",
        "        else:\n",
        "            break\n",
        "    except ValueError:\n",
        "        print(\"Invalid input. Please enter an integer.\")\n",
        "\n",
        "fact = factorial(num)\n",
        "print(f\"The factorial of {num} is {fact}\")\n"
      ],
      "metadata": {
        "id": "MU2cdtub4HW1",
        "colab": {
          "base_uri": "https://localhost:8080/"
        },
        "outputId": "1fb61d3e-0ade-4ca2-de31-9e9b59735e1f"
      },
      "execution_count": null,
      "outputs": [
        {
          "output_type": "stream",
          "name": "stdout",
          "text": [
            "Enter a non-negative integer: 22\n",
            "The factorial of 22 is 1124000727777607680000\n"
          ]
        }
      ]
    },
    {
      "cell_type": "code",
      "source": [],
      "metadata": {
        "id": "PIdWuAML4HOf"
      },
      "execution_count": null,
      "outputs": []
    },
    {
      "cell_type": "markdown",
      "source": [
        "### 7) You're helping design a study tool for kids that displays fun number patterns. One such pattern looks like a staircase, where each line adds one more number.\n",
        "\n",
        "🧪 Task:\n",
        "Write a Python program using nested for loops to display the following pattern:\n",
        "<p> Hint: Use nested for loops\n",
        "\n",
        "![067afe1d-8482-4696-88c8-46587332ea96 (1).png](data:image/png;base64,iVBORw0KGgoAAAANSUhEUgAAAQQAAACrCAYAAACANeKFAAAABGdBTUEAALGPC/xhBQAAAAlwSFlzAAAScwAAEnMBjCK5BwAABONJREFUeF7t3UFuGzcYhuEeq0A3OVMWyT0MJKdIgJzAPkPgtc6iWp6ZT7IwalqJv6s/8yyeTezQszBfU5RA/rHb7fZ//vUBYC8IQAgCEIIAhCAAIQhACAIQggCEIAAhCEAIAhCCAIQgACEIQAgCEIIAhCAAIQhACAIQggCEIAAhCEAUB+Hr/vFl/MPPeP72eeXrwD0pCsLn/fefhxA87R++PAkCNFEShIfHkwAIArRRv4cgCNCGIAAhCEAIAhCCAIQgACEIQAgCEDVBmCNwyeOXlf8D/O/qVwhAG4IAhCAAIQhACAIQggCEIAAhCEAIAhCCAIQgACEIQAgCEIIAhCAAIQhACAIQggBEcRBG3/68XCJ74vHryvcB1ygKQsXtz9OYb8ZZzm4UBRiiJAjvefvz4Wftds/775/Wvw78e/V7CMVB+PjtWRBgkPZBsEKAcXoH4dOP/fPL2LufP/Yf174O/CeNg3B8B8PFLzBG0yAc336seikCW9QwCGIAVdoFYdpEfOGzBzBcqyCIAdSqCcIcgUuu2gRc3lG4xDsNcLP6FQLQhiAAIQhACAIQggCEIAAhCEAIAhCCAIQgACEIQAgCEIIAhCAAIQhACAIQggBEcRAaXPa6errT0/5h7XvhN1cUhM6XvZ48++rX4fdVEoT2l73Oz+wCGLamfg+hOAgll72+PrP7Itme9kEYv0KY9z0c9c4G9Q7CqMtez494d6Q7G9U4CHWXvS4XwthDYGuaBqH6fsd5fCsFNqZhEKpjMHldJQgCG9MuCMtyvnbTz8Yi29QqCO8TAx9MYrtqgjBH4JJ7uuw1kTlR+VIE7ln9CgFoQxCAEAQgBAEIQQBCEIAQBCAEAQhBAEIQgBAEIAQBCEEAQhCAEAQgBAEIQQCiOAgue3118jMc7c49KwrCybmEw85UnMZ8M84y0YaesTj6TMVjFAWBe1cShMM5hZm4w4KwbjoT8X4ve52e7xhGQeCe1e8hFAfhri97PY2AINBA+yCMXyGMupPhbBxBoIHeQbjjy17zUmH5N0GggcZBOG7WjZ5k02S+Ydy1yS8INNA0CMe3H2teiszjX7VSmP/v+UsOQaCBhkGojsHkdZVwTRB+dcPUTBi4R+2CsCznx3724NyojcUTVgg00CoI7xOD0R9MmgkCDdQEYf7lv+SqSdH9sldBoIH6FQLQhiAAIQhACAIQggCEIAAhCEAIAhCCAIQgACEIQAgCEIIAhCAAIQhACAIQggBEcRCOR6WPOYXoeMBq3Hqc2urpTjXHpx3cdGLSP5wa5SQmRigKwsm5hPNkuD0I05hvxlkm2tAzFkefqXiM4s0Tdw6CyU+VkiAczinMxB0WhHXTmYgbuexVEChWv4dQHIRNXfYqCBRrH4TxK4RRdzKcjSMINNA7CMsm21Yuez1/zleDV0dsWuMgHDfrRv/FnCbzDeOuTf4RQVixPGvVCoxtaRqE49uPNRNhHr/FZa+j3xVhyxoGoToGk9e/vC0uexUExmkXhGWJPPazB+dGbSyeKFshFDwrm9UqCO8Tg6K/uCVBWPZRrA4YoyYI8y//JVdNil8txTdw2ev0mYt3eFY2q36FALQhCEAIAhCCAIQgACEIQAgCEIIAhCAAIQhACAIQggCEIAAhCEAIAhCCAIQgACEIQAgCEIIAzD7s/wadbN4YO0i3hgAAAABJRU5ErkJggg==)"
      ],
      "metadata": {
        "id": "C_9ZSoCw4Hwi"
      }
    },
    {
      "cell_type": "code",
      "source": [
        "for i in range(1, 6):\n",
        "    for j in range(1, i + 1):\n",
        "        print(j, end='')\n",
        "    print()\n"
      ],
      "metadata": {
        "id": "IZLEsth14emX",
        "colab": {
          "base_uri": "https://localhost:8080/"
        },
        "outputId": "7e7c8500-b281-4807-f7ee-01d5a4801710"
      },
      "execution_count": null,
      "outputs": [
        {
          "output_type": "stream",
          "name": "stdout",
          "text": [
            "1\n",
            "12\n",
            "123\n",
            "1234\n",
            "12345\n"
          ]
        }
      ]
    },
    {
      "cell_type": "code",
      "source": [],
      "metadata": {
        "id": "mfEaNZv74edt"
      },
      "execution_count": null,
      "outputs": []
    }
  ]
}